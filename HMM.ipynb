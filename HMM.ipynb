{
 "cells": [
  {
   "cell_type": "markdown",
   "metadata": {},
   "source": [
    "## HMM\n",
    "\n",
    "### Code\n",
    "\n",
    "#### 向前/向后算法"
   ]
  },
  {
   "cell_type": "code",
   "execution_count": null,
   "metadata": {},
   "outputs": [],
   "source": [
    "import numpy as np"
   ]
  },
  {
   "cell_type": "code",
   "execution_count": null,
   "metadata": {},
   "outputs": [],
   "source": [
    "class Hidden_Markov_Model:\n",
    "    def forward(self, A, B, PI, Q, V, O):\n",
    "        Q_n = len(Q)\n",
    "        O_n = len(O)\n",
    "        alphas = np.zeros((O_n, Q_n))\n",
    "        for t in range(O_n):\n",
    "            index = V.index(O[t])\n",
    "            if t == 0:\n",
    "                alphas[t] = PI * B[:,index]\n",
    "            else:\n",
    "                alphas[t] = np.dot(alphas[t-1], A) * B[:,index]\n",
    "        P = np.sum(alphas[O_n-1])\n",
    "        print(\"P(O|lambda) =\", P)\n",
    "        return alphas\n",
    "        \n",
    "    def backward(self, A, B, PI, Q, V, O):\n",
    "        Q_n = len(Q)\n",
    "        O_n = len(O)\n",
    "        betas = np.ones((O_n, Q_n))\n",
    "        for t in range(O_n-2,-1,-1):\n",
    "            index = V.index(O[t+1])\n",
    "            betas[t] = np.dot(A * B[:,index], betas[t+1])\n",
    "        P = np.dot(PI * B[:,V.index(O[0])], betas[0])\n",
    "        print(\"P(O|lambda) =\", P)\n",
    "        return betas"
   ]
  },
  {
   "cell_type": "markdown",
   "metadata": {},
   "source": [
    "#### 测试\n",
    "\n",
    "对于10.1习题例子（主要根据前向和后向算法计算结果）："
   ]
  },
  {
   "cell_type": "code",
   "execution_count": null,
   "metadata": {},
   "outputs": [],
   "source": [
    "A = np.array([[0.5,0.2,0.3],[0.3,0.5,0.2],[0.2,0.3,0.5]])\n",
    "B = np.array([[0.5,0.5],[0.4,0.6],[0.7,0.3]])\n",
    "PI = np.array([0.2,0.4,0.4])\n",
    "V = [\"red\",\"white\"]\n",
    "Q = [1,2,3]\n",
    "O = [\"red\",\"white\",\"red\",\"white\"]\n",
    "        \n",
    "HMM = Hidden_Markov_Model()\n",
    "HMM = Hidden_Markov_Model()\n",
    "print(\"P(O|lambda) =\", HMM.forward(A,B,PI,Q,V,O))\n",
    "print(\"P(O|lambda) =\", HMM.backward(A,B,PI,Q,V,O))"
   ]
  },
  {
   "cell_type": "markdown",
   "metadata": {},
   "source": [
    "对于10.2习题例子（根据公式10.24公式，加上前向和后向概率矩阵，从而计算结果）："
   ]
  },
  {
   "cell_type": "code",
   "execution_count": null,
   "metadata": {},
   "outputs": [],
   "source": [
    "A = np.array([[0.5,0.1,0.4],[0.3,0.5,0.2],[0.2,0.2,0.6]])\n",
    "B = np.array([[0.5,0.5],[0.4,0.6],[0.7,0.3]])\n",
    "PI = np.array([0.2,0.3,0.5])\n",
    "V = [\"red\",\"white\"]\n",
    "Q = [1,2,3]\n",
    "O = [\"red\",\"white\",\"red\",\"red\",\"white\",\"red\",\"white\",\"white\"]\n",
    "\n",
    "HMM = Hidden_Markov_Model()\n",
    "alpha = HMM.forward(A,B,PI,Q,V,O)\n",
    "beta = HMM.backward(A,B,PI,Q,V,O)\n",
    "p = alpha[3,2]*beta[3,2]/sum(alpha[3] * beta[3])\n",
    "print(\"P(i4=q3|O,lambda) = \", p)"
   ]
  },
  {
   "cell_type": "markdown",
   "metadata": {},
   "source": [
    "#### 维特比算法"
   ]
  },
  {
   "cell_type": "code",
   "execution_count": null,
   "metadata": {},
   "outputs": [],
   "source": [
    "class Hidden_Markov_Model:\n",
    "    def vertibi(self, A, B, PI, Q, V, O):\n",
    "        Q_n = len(Q)\n",
    "        O_n = len(O)\n",
    "        deltas = np.zeros((O_n, Q_n))\n",
    "        psis = np.zeros((O_n, Q_n))\n",
    "        I = np.zeros(O_n)\n",
    "        for t in range(O_n):\n",
    "            index = V.index(O[t])\n",
    "            for i in range(Q_n):\n",
    "                if t == 0:\n",
    "                    deltas[t,i] = PI[i] * B[i,index]\n",
    "                    psis[t,i] = 0\n",
    "                else:\n",
    "                    deltas[t,i] = np.max(A[:,i] * deltas[t-1,:]) * B[i,index]\n",
    "                    psis[t,i] = np.argmax(A[:,i] * deltas[t-1,:]) + 1\n",
    "        I[O_n-1] = np.argmax(deltas[O_n-1,:]) + 1\n",
    "        for t in range(O_n-2,-1,-1):\n",
    "            I[t] = psis[t+1,int(I[t+1])-1]\n",
    "        print(\"I =\", I)\n",
    "        return"
   ]
  },
  {
   "cell_type": "markdown",
   "metadata": {},
   "source": [
    "#### 测试\n",
    "\n",
    "以习题10-3为例："
   ]
  },
  {
   "cell_type": "code",
   "execution_count": null,
   "metadata": {},
   "outputs": [],
   "source": [
    "A = np.array([[0.5,0.2,0.3],[0.3,0.5,0.2],[0.2,0.3,0.5]])\n",
    "B = np.array([[0.5,0.5],[0.4,0.6],[0.7,0.3]])\n",
    "PI = np.array([0.2,0.4,0.4])\n",
    "V = [\"red\",\"white\"]\n",
    "Q = [1,2,3]\n",
    "O = [\"red\",\"white\",\"red\",\"white\"]\n",
    "\n",
    "HMM = Hidden_Markov_Model()\n",
    "HMM.vertibi(A,B,PI,Q,V,O)\n",
    "#>>I = [3. 2. 2. 2.]"
   ]
  }
 ],
 "metadata": {
  "kernelspec": {
   "display_name": "Python 3",
   "language": "python",
   "name": "python3"
  },
  "language_info": {
   "codemirror_mode": {
    "name": "ipython",
    "version": 3
   },
   "file_extension": ".py",
   "mimetype": "text/x-python",
   "name": "python",
   "nbconvert_exporter": "python",
   "pygments_lexer": "ipython3",
   "version": "3.7.3"
  }
 },
 "nbformat": 4,
 "nbformat_minor": 2
}
