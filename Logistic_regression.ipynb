{
 "cells": [
  {
   "cell_type": "markdown",
   "metadata": {},
   "source": [
    "## Logistic regression"
   ]
  },
  {
   "cell_type": "markdown",
   "metadata": {},
   "source": [
    "### Code"
   ]
  },
  {
   "cell_type": "code",
   "execution_count": null,
   "metadata": {},
   "outputs": [],
   "source": [
    "import numpy as np\n",
    "import pandas as pd\n",
    "from sklearn.model_selection import train_test_split"
   ]
  },
  {
   "cell_type": "code",
   "execution_count": null,
   "metadata": {},
   "outputs": [],
   "source": [
    "class logisticRegression:\n",
    "    # Sigmoid函数\n",
    "    def sigmoid(self, z):\n",
    "        return 1/(1+np.exp(-z))\n",
    "    \n",
    "    # 在对数似然函数导数前面加了负号，因此用梯度下降法，运用矩阵计算，迭代1000次，求解w\n",
    "    def gradient_descent(self, X, y, item = 1000, alpha = 0.001):\n",
    "        w = np.ones((X.shape[1],1))\n",
    "        for i in range(item):\n",
    "            h = self.sigmoid(np.dot(X, w))\n",
    "            error = h - y\n",
    "            w -= alpha * np.dot(X.T, error) \n",
    "        return w\n",
    "    \n",
    "    # 计算wx，通过公式6.3确定分类值\n",
    "    def predict(self, w, test):\n",
    "        p1 = self.sigmoid(np.dot(test, w))\n",
    "        if p1 >= 0.5:\n",
    "            return 1\n",
    "        else:\n",
    "            return 0"
   ]
  },
  {
   "cell_type": "markdown",
   "metadata": {},
   "source": [
    "### 训练集"
   ]
  },
  {
   "cell_type": "code",
   "execution_count": null,
   "metadata": {},
   "outputs": [],
   "source": [
    "dataset = pd.read_table(\"testSet.txt\", header = None)\n",
    "dataset = np.mat(dataset)\n",
    "X = dataset[:,:-1]\n",
    "y = dataset[:,-1]\n",
    "X = np.insert(X, X.shape[1], values = 1, axis = 1)\n",
    "train_X, test_X, train_y, test_y = train_test_split(X, y, test_size = 0.2, random_state = 123456)"
   ]
  },
  {
   "cell_type": "markdown",
   "metadata": {},
   "source": [
    "构建Logistic回归模型，预测测试集的结果"
   ]
  },
  {
   "cell_type": "code",
   "execution_count": null,
   "metadata": {},
   "outputs": [],
   "source": [
    "LR = logisticRegression()\n",
    "w = LR.gradient_descent(train_X, train_y, alpha = 0.001, item = 1000)\n",
    "\n",
    "error = 0\n",
    "for i in range(len(test_X)):\n",
    "    predict_y = LR.predict(w, test_X[i,:])\n",
    "    if predict_y != test_y[i]:\n",
    "        error += 1\n",
    "print(error / len(test_y) * 100)"
   ]
  }
 ],
 "metadata": {
  "kernelspec": {
   "display_name": "Python 3",
   "language": "python",
   "name": "python3"
  },
  "language_info": {
   "codemirror_mode": {
    "name": "ipython",
    "version": 3
   },
   "file_extension": ".py",
   "mimetype": "text/x-python",
   "name": "python",
   "nbconvert_exporter": "python",
   "pygments_lexer": "ipython3",
   "version": "3.7.3"
  }
 },
 "nbformat": 4,
 "nbformat_minor": 2
}
