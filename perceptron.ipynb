{
 "cells": [
  {
   "cell_type": "markdown",
   "metadata": {},
   "source": [
    "## 感知机Perceptron"
   ]
  },
  {
   "cell_type": "code",
   "execution_count": null,
   "metadata": {},
   "outputs": [],
   "source": [
    "import numpy as np\n",
    "\n",
    "X = np.array([[3,3],[4,3],[1,1]])\n",
    "y = np.array([[1],[1],[-1]])\n",
    "\n",
    "\n",
    "class Perceptron():\n",
    "    def __init__(self):\n",
    "        self.weight = np.zeros((2,1))\n",
    "        self.bias = 0\n",
    "        self.learning_rate = 1\n",
    "        \n",
    "    def fit(self, X, y):\n",
    "        a = np.dot(X, self.weight) + self.bias\n",
    "        p = np.where(a <= 0)[0]\n",
    "        \n",
    "        while len(p) > 0:\n",
    "            # 随机取误分类点\n",
    "            # index = np.random.choice(p) \n",
    "            # 取第一个误分类点（按照书中例子）\n",
    "            index = p[0]\n",
    "            print(index + 1)\n",
    "            self.weight += y[index] * X[index].reshape(2,1)\n",
    "            self.bias += y[index]\n",
    "            a = y * (np.dot(X, self.weight) + self.bias)\n",
    "            p = np.where(a <= 0)[0]\n",
    "            \n",
    "        return self.weight, self.bias\n",
    "\n",
    "p = Perceptron()\n",
    "trained_w, trained_b = p.fit(X=X, y=y)"
   ]
  }
 ],
 "metadata": {
  "kernelspec": {
   "display_name": "Python 3",
   "language": "python",
   "name": "python3"
  },
  "language_info": {
   "codemirror_mode": {
    "name": "ipython",
    "version": 3
   },
   "file_extension": ".py",
   "mimetype": "text/x-python",
   "name": "python",
   "nbconvert_exporter": "python",
   "pygments_lexer": "ipython3",
   "version": "3.7.1"
  }
 },
 "nbformat": 4,
 "nbformat_minor": 2
}

