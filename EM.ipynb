{
 "cells": [
  {
   "cell_type": "markdown",
   "metadata": {},
   "source": [
    "## EM\n",
    "\n",
    "### Code"
   ]
  },
  {
   "cell_type": "code",
   "execution_count": null,
   "metadata": {},
   "outputs": [],
   "source": [
    "import numpy as np\n",
    "import math\n",
    "import random\n",
    "import copy"
   ]
  },
  {
   "cell_type": "code",
   "execution_count": null,
   "metadata": {},
   "outputs": [],
   "source": [
    "# 公式9.25，计算高斯分布密度\n",
    "def gaussian_pro(x, mu, sigma):\n",
    "    gsi = np.exp(-1 * (x - mu) * (x - mu) / (2 * sigma**2)) * \\\n",
    "    (1 / (math.sqrt(2 * math.pi) * sigma))\n",
    "    return(gsi)\n",
    "\n",
    "# 算法9.2的E步，计算分模型k对观测数据yi的响应度gamma\n",
    "def E_step(x, alpha_s, mu_s, sigma_s, K):\n",
    "    gamma = []\n",
    "    for i in range(K): \n",
    "        gamma.append(alpha_s[i] * gaussian_pro(x, mu_s[i], sigma_s[i]))\n",
    "    \n",
    "    sum_gamma = sum(gamma)\n",
    "    \n",
    "    for i in range(K): \n",
    "        gamma[i] /= sum_gamma\n",
    "    return(gamma)\n",
    "\n",
    "# 算法9.2的M步，更新模型参数mu,sigma,alpha\n",
    "def M_step(x, mu_s, gamma, K):\n",
    "    mu_k = []\n",
    "    sigma_k = []\n",
    "    alpha_k = []\n",
    "    \n",
    "    for i in range(K): \n",
    "        # 更新 mu\n",
    "        mu_k.append(np.dot(gamma[i], x) / np.sum(gamma[i]))\n",
    "        # 更新 sigam\n",
    "        sigma_k.append(math.sqrt(np.dot(gamma[i], (x - mu_s[i])**2) / np.sum(gamma[i])))\n",
    "        # 更新 alpha\n",
    "        alpha_k.append(np.sum(gamma[i]) / len(gamma[i]))\n",
    "    return mu_k, sigma_k, alpha_k\n",
    "\n",
    "# 迭代E步和M步，直至收敛\n",
    "def EM(x, K, max_iter = 500):\n",
    "    # 初始化alpha, mu, sigma\n",
    "    alpha = [1 / K for i in range(K)]\n",
    "    random.seed(12345)\n",
    "    mu = [random.random() for i in range(K)]\n",
    "    sigma = [random.random()*10 for i in range(K)]\n",
    "    \n",
    "    gamma = np.zeros((K, len(x)))\n",
    "    iter = 0\n",
    "    while iter < max_iter:\n",
    "        gamma_old = copy.deepcopy(gamma)\n",
    "        gamma = E_step(x, alpha, mu, sigma, K)\n",
    "        mu, sigma, alpha = M_step(x, mu, gamma, K)\n",
    "        # gamma变化小于1e-10则停止迭代\n",
    "        if np.sum(abs(gamma[0] - gamma_old[0])) < 1e-10:\n",
    "            break\n",
    "        else:\n",
    "            iter += 1\n",
    "    return alpha, mu, sigma"
   ]
  },
  {
   "cell_type": "markdown",
   "metadata": {},
   "source": [
    "### 训练集\n",
    "\n",
    "按照习题例子输入观测数据（这里是简单的一维数据），通过EM函数估计两个分量的高斯混合模型的参数"
   ]
  },
  {
   "cell_type": "code",
   "execution_count": null,
   "metadata": {},
   "outputs": [],
   "source": [
    "alpha, mu, sigma = EM(dataset, 2)\n",
    "print(\"alpha1:%.3f, alpha2:%.3f\" %(alpha[0], alpha[1]))\n",
    "print(\"mu1:%.1f, mu2:%.1f\" %(mu[0], mu[1]))\n",
    "print(\"sigma1:%.1f, sigma2:%.1f\" %(sigma[0], sigma[1]))\n",
    "# alpha1:0.658, alpha2:0.342\n",
    "# mu1:21.6, mu2:19.7\n",
    "# sigma1:44.5, sigma2:8.3"
   ]
  }
 ],
 "metadata": {
  "kernelspec": {
   "display_name": "Python 3",
   "language": "python",
   "name": "python3"
  },
  "language_info": {
   "codemirror_mode": {
    "name": "ipython",
    "version": 3
   },
   "file_extension": ".py",
   "mimetype": "text/x-python",
   "name": "python",
   "nbconvert_exporter": "python",
   "pygments_lexer": "ipython3",
   "version": "3.7.3"
  }
 },
 "nbformat": 4,
 "nbformat_minor": 2
}
