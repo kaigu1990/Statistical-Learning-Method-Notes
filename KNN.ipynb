{
 "cells": [
  {
   "cell_type": "markdown",
   "metadata": {},
   "source": [
    "## K近邻(KNN)"
   ]
  },
  {
   "cell_type": "markdown",
   "metadata": {},
   "source": [
    "### Code"
   ]
  },
  {
   "cell_type": "code",
   "execution_count": null,
   "metadata": {},
   "outputs": [],
   "source": [
    "import numpy as np\n",
    "import pandas as pd\n",
    "from collections import Counter\n",
    "from sklearn.model_selection import KFold\n",
    "\n",
    "class KNN:\n",
    "    def brute_force_knn(self, dat_X, label, input_x, k):\n",
    "        # 计算欧式距离\n",
    "        dist = ((input_x - dat_X)**2).sum(axis=1)**0.5\n",
    "        dist_index = np.argsort(dist)\n",
    "        # 分类决策：多数表决\n",
    "        label_pre = []\n",
    "        for i in dist_index[:k]:\n",
    "            label_pre.append(label[i])\n",
    "        target = Counter(label_pre).most_common(1)[0][0]\n",
    "        return target\n",
    "\n",
    "    def knn_fd_cv(self, dat_X, label, k, fd):\n",
    "        kf = KFold(n_splits=fd)\n",
    "        error_list = []\n",
    "        for train_index, test_index in kf.split(dat_X):\n",
    "            X_train, X_test = dat_X[train_index], dat_X[test_index]\n",
    "            y_train, y_test = label[train_index], label[test_index]\n",
    "            \n",
    "            error = 0\n",
    "            for i in range(len(y_test)):\n",
    "                t = self.brute_force_knn(dat_X=X_train, label=y_train, input_x=X_test[i], k=k)\n",
    "                # 计算测试误差\n",
    "                if t != y_test[i]:\n",
    "                    error += 1\n",
    "            error_list.append(error/len(y_test)*100)\n",
    "        return np.mean(error_list)"
   ]
  },
  {
   "cell_type": "markdown",
   "metadata": {},
   "source": [
    "### 测试数据集"
   ]
  },
  {
   "cell_type": "code",
   "execution_count": null,
   "metadata": {},
   "outputs": [],
   "source": [
    "# 读入测试数据集\n",
    "dataset = pd.read_csv(\"train.csv\")\n",
    "dataset = np.array(dataset)\n",
    "# 确定实例点和其对应标记\n",
    "train_dat = dataset[:,1:]\n",
    "train_label = dataset[:,0]\n",
    "\n",
    "knn = KNN()\n",
    "# 计算k取值在2-7下的测试误差，交叉验证为10折\n",
    "for i in range(2,8):\n",
    "    r = knn.knn_fd_cv(dat_X=train_dat, label=train_label, k=i, fd=10)\n",
    "    print(\"k =\",i,\"error rate =\",r)"
   ]
  }
 ],
 "metadata": {
  "kernelspec": {
   "display_name": "Python 3",
   "language": "python",
   "name": "python3"
  },
  "language_info": {
   "codemirror_mode": {
    "name": "ipython",
    "version": 3
   },
   "file_extension": ".py",
   "mimetype": "text/x-python",
   "name": "python",
   "nbconvert_exporter": "python",
   "pygments_lexer": "ipython3",
   "version": "3.7.3"
  }
 },
 "nbformat": 4,
 "nbformat_minor": 2
}
